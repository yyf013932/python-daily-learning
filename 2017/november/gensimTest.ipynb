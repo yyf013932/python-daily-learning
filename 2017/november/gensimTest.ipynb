{
 "cells": [
  {
   "cell_type": "markdown",
   "metadata": {},
   "source": [
    "## 使用Gensim判断两篇中文文章相似度\n",
    "参考[gensim官网](https://radimrehurek.com/gensim)\n",
    ">注：分词使用jieba分词\n",
    "\n",
    "整体流程为：\n",
    "1、预处理，分词与去停止词与标点\n",
    "2、使用gensim构建语料库与模型\n",
    "3、比较相似度"
   ]
  },
  {
   "cell_type": "code",
   "execution_count": 1,
   "metadata": {},
   "outputs": [
    {
     "name": "stderr",
     "output_type": "stream",
     "text": [
      "C:\\Anaconda\\lib\\site-packages\\gensim\\utils.py:860: UserWarning: detected Windows; aliasing chunkize to chunkize_serial\n",
      "  warnings.warn(\"detected Windows; aliasing chunkize to chunkize_serial\")\n"
     ]
    }
   ],
   "source": [
    "from gensim import corpora,models,similarities\n",
    "import jieba\n",
    "from pprint import pprint"
   ]
  },
  {
   "cell_type": "markdown",
   "metadata": {},
   "source": [
    "### 分词与去除停止词与标点"
   ]
  },
  {
   "cell_type": "code",
   "execution_count": 2,
   "metadata": {},
   "outputs": [
    {
     "name": "stderr",
     "output_type": "stream",
     "text": [
      "Building prefix dict from the default dictionary ...\n",
      "Loading model from cache C:\\Users\\DANIEL~1\\AppData\\Local\\Temp\\jieba.cache\n",
      "Loading model cost 0.791 seconds.\n",
      "Prefix dict has been built succesfully.\n"
     ]
    },
    {
     "name": "stdout",
     "output_type": "stream",
     "text": [
      "[['非常',\n",
      "  '很',\n",
      "  '有',\n",
      "  '并',\n",
      "  '改编',\n",
      "  '说',\n",
      "  '是',\n",
      "  '电影',\n",
      "  '戏',\n",
      "  '最后',\n",
      "  '晚餐',\n",
      "  '构图',\n",
      "  '不是',\n",
      "  '是',\n",
      "  '\\n'],\n",
      " ['却', '改编', '用', '正义', '都', '很', '\\n'],\n",
      " ['电影',\n",
      "  '感',\n",
      "  '很',\n",
      "  '用',\n",
      "  '出',\n",
      "  '用',\n",
      "  '用',\n",
      "  '最后',\n",
      "  '晚餐',\n",
      "  '构图',\n",
      "  '将',\n",
      "  '正义',\n",
      "  '也',\n",
      "  '让',\n",
      "  '道德',\n",
      "  '这',\n",
      "  '也',\n",
      "  '是',\n",
      "  '改编',\n",
      "  '只有',\n",
      "  '最后',\n",
      "  '却',\n",
      "  '将',\n",
      "  '道德',\n",
      "  '\\n'],\n",
      " ['说',\n",
      "  '是',\n",
      "  '非常',\n",
      "  '卡司',\n",
      "  '很',\n",
      "  '故事',\n",
      "  '大菠萝',\n",
      "  '戏',\n",
      "  '和',\n",
      "  '有',\n",
      "  '大菠萝',\n",
      "  '不',\n",
      "  '效仿',\n",
      "  '\\n'],\n",
      " ['卡司', '和', '电影', '感', '也', '并', '不', '故事', '\\n'],\n",
      " ['电影', '都', '效仿', '拍摄', '拍摄', '出', '是', '让', '不是', '感', '这', '只有']]\n"
     ]
    }
   ],
   "source": [
    "#读取数据，这里选取了豆瓣电影上的影评\n",
    "delete_words=\"的 了 么 呢 吗 地 与 但 时 就 啊 《 》 “ ” … ！ ， 。\".split()\n",
    "texts=[[word for word in jieba.cut(document) if word not in delete_words] for document in open('gensim.txt')]\n",
    "# remove words that appear only once\n",
    "from collections import defaultdict\n",
    "frequency = defaultdict(int)\n",
    "for text in texts:\n",
    "    for token in text:\n",
    "        frequency[token] += 1\n",
    "#去除只出现一次的词语，可选\n",
    "texts = [[token for token in text if frequency[token] > 1]for text in texts]\n",
    "pprint(texts)"
   ]
  },
  {
   "cell_type": "markdown",
   "metadata": {},
   "source": [
    "### 构建预料库与模型"
   ]
  },
  {
   "cell_type": "code",
   "execution_count": 3,
   "metadata": {},
   "outputs": [
    {
     "name": "stdout",
     "output_type": "stream",
     "text": [
      "[(0, 0.022886620823319163), (1, 0.022548566279495936), (2, 0.95456481289718487)]\n"
     ]
    }
   ],
   "source": [
    "#词典\n",
    "dictionary = corpora.Dictionary(texts)\n",
    "#语料库，将文档转换为bag of word的表示\n",
    "corpus = [dictionary.doc2bow(text) for text in texts]\n",
    "#构建LDA模型，选择3个潜藏主题\n",
    "model  = models.LdaModel(corpus,id2word=dictionary,num_topics=3)\n",
    "#显示潜藏主题\n",
    "model.print_topics(3)\n",
    "\n",
    "#将原语料库转换为lda模型的模型表示\n",
    "vec_lda = model[corpus]\n",
    "#每个文本都可以表示为一个3维向量表示，之后可以使用余弦距离计算相似度\n",
    "print(vec_lda[0])"
   ]
  },
  {
   "cell_type": "markdown",
   "metadata": {},
   "source": [
    "### 相似度比较与相似查询"
   ]
  },
  {
   "cell_type": "code",
   "execution_count": 11,
   "metadata": {},
   "outputs": [
    {
     "name": "stdout",
     "output_type": "stream",
     "text": [
      "[(0, 1.0), (1, 0.075662106), (2, 0.039198291), (3, 0.99999934), (4, 0.99977362), (5, 0.053346336)]\n"
     ]
    }
   ],
   "source": [
    "#将原预料转换为lda空间并且建立索引\n",
    "index = similarities.MatrixSimilarity(model[corpus])\n",
    "\n",
    "#使用索引进行相似查询，结果是(document_number, document_similarity)的二元组\n",
    "sims = index[vec_lda[0]]\n",
    "\n",
    "#打印全部的结果\n",
    "print(list(enumerate(sims)))"
   ]
  }
 ],
 "metadata": {
  "kernelspec": {
   "display_name": "Python 3",
   "language": "python",
   "name": "python3"
  },
  "language_info": {
   "codemirror_mode": {
    "name": "ipython",
    "version": 3
   },
   "file_extension": ".py",
   "mimetype": "text/x-python",
   "name": "python",
   "nbconvert_exporter": "python",
   "pygments_lexer": "ipython3",
   "version": "3.6.2"
  }
 },
 "nbformat": 4,
 "nbformat_minor": 2
}

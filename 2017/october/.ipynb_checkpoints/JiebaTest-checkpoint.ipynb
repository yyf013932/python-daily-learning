{
 "cells": [
  {
   "cell_type": "markdown",
   "metadata": {
    "collapsed": true
   },
   "source": [
    "## Jieba分词库的使用 github: https://github.com/fxsjy/jieba"
   ]
  },
  {
   "cell_type": "markdown",
   "metadata": {},
   "source": [
    "主要方法\n",
    "* jieba.cut(sentence, cut_all=False, HMM=True)\n",
    "* jieba.cut_for_search(sentence, HMM=True)\n",
    "* jieba.lcut()与jieba.lcut_for_search与上面两个相同，但是返回的为list，之前两个为generator\n",
    "* jieba.load_userdict(file_name),添加自定义词典，格式为一个词占一行；每一行分三部分：词语、词频（可省略）、词性（可省略），用空格隔开，顺序不可颠倒。\n",
    "* jieba.add_word(word,freq=None,tag=None) jieba.del_word(word)可以在程序中动态的增减词典\n",
    "* jieba.suggest_freq(segment, tune=True) 可调节单个词语的词频，使其能（或不能）被分出来\n",
    "* jieba.analyse.extract_tags(sentence, topK=20, withWeight=False, allowPOS=())\n",
    "         sentence 为待提取的文本\n",
    "        topK 为返回几个 TF/IDF 权重最大的关键词，默认值为 20\n",
    "        withWeight 为是否一并返回关键词权重值，默认值为 False\n",
    "        allowPOS 仅包括指定词性的词，默认值为空，即不筛选"
   ]
  },
  {
   "cell_type": "code",
   "execution_count": 3,
   "metadata": {
    "collapsed": true
   },
   "outputs": [],
   "source": [
    "import jieba"
   ]
  },
  {
   "cell_type": "code",
   "execution_count": 4,
   "metadata": {
    "collapsed": true
   },
   "outputs": [],
   "source": [
    "TestStr = \"2010年底部队友谊篮球赛结束\""
   ]
  },
  {
   "cell_type": "code",
   "execution_count": 5,
   "metadata": {},
   "outputs": [
    {
     "name": "stderr",
     "output_type": "stream",
     "text": [
      "Building prefix dict from the default dictionary ...\n",
      "Loading model from cache C:\\Users\\DANIEL~1\\AppData\\Local\\Temp\\jieba.cache\n",
      "Loading model cost 0.712 seconds.\n",
      "Prefix dict has been built succesfully.\n"
     ]
    },
    {
     "name": "stdout",
     "output_type": "stream",
     "text": [
      "Full Mode: 2010/年底/底部/部队/队友/友谊/篮球/篮球赛/球赛/结束\n"
     ]
    }
   ],
   "source": [
    "seg_list = jieba.cut(TestStr,cut_all=True)\n",
    "print(\"Full Mode:\",\"/\".join(seg_list)) #全模式"
   ]
  },
  {
   "cell_type": "code",
   "execution_count": 6,
   "metadata": {
    "scrolled": true
   },
   "outputs": [
    {
     "name": "stdout",
     "output_type": "stream",
     "text": [
      "Full Mode: 2010/年底/部队/友谊/篮球赛/结束\n"
     ]
    }
   ],
   "source": [
    "seg_list = jieba.cut(TestStr,cut_all=False)\n",
    "print(\"Default Mode:\",\"/\".join(seg_list)) #全模式"
   ]
  },
  {
   "cell_type": "code",
   "execution_count": 7,
   "metadata": {},
   "outputs": [
    {
     "name": "stdout",
     "output_type": "stream",
     "text": [
      "Default Mode: 2010/年底/部队/友谊/篮球/球赛/篮球赛/结束\n"
     ]
    }
   ],
   "source": [
    "seg_list = jieba.cut_for_search(TestStr)\n",
    "print(\"Default Mode:\",\"/\".join(seg_list)) #全模式"
   ]
  },
  {
   "cell_type": "code",
   "execution_count": 8,
   "metadata": {},
   "outputs": [
    {
     "name": "stdout",
     "output_type": "stream",
     "text": [
      "Default Mode: 2010/年底/部队/友谊篮球赛/结束\n"
     ]
    }
   ],
   "source": [
    "jieba.add_word(\"友谊篮球赛\")\n",
    "seg_list = jieba.cut(TestStr)\n",
    "print(\"Default Mode:\",\"/\".join(seg_list))"
   ]
  },
  {
   "cell_type": "code",
   "execution_count": null,
   "metadata": {
    "collapsed": true
   },
   "outputs": [],
   "source": []
  }
 ],
 "metadata": {
  "kernelspec": {
   "display_name": "Python 3",
   "language": "python",
   "name": "python3"
  },
  "language_info": {
   "codemirror_mode": {
    "name": "ipython",
    "version": 3
   },
   "file_extension": ".py",
   "mimetype": "text/x-python",
   "name": "python",
   "nbconvert_exporter": "python",
   "pygments_lexer": "ipython3",
   "version": "3.6.2"
  }
 },
 "nbformat": 4,
 "nbformat_minor": 2
}

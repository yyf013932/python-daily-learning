{
 "cells": [
  {
   "cell_type": "code",
   "execution_count": 56,
   "metadata": {
    "collapsed": true
   },
   "outputs": [],
   "source": [
    "import numpy as np\n",
    "import pandas as pd\n",
    "\n",
    "from sklearn.linear_model import LogisticRegression\n",
    "from sklearn.metrics import auc\n",
    "from sklearn.metrics import roc_curve\n",
    "from sklearn.metrics import roc_auc_score\n",
    "from sklearn.model_selection import GridSearchCV"
   ]
  },
  {
   "cell_type": "code",
   "execution_count": 22,
   "metadata": {},
   "outputs": [],
   "source": [
    "all_train_data = pd.read_csv(\"D:\\\\resources\\\\sms_analysis\\\\all_train.csv\",encoding='gb2312')\n",
    "all_train_get_data = pd.read_csv(\"D:\\\\resources\\\\sms_analysis\\\\all_train_get.csv\",encoding='gb2312')\n",
    "all_train_data.drop('Unnamed: 0',axis=1,inplace=True)\n",
    "all_train_get_data.drop('Unnamed: 0',axis=1,inplace=True)\n",
    "all_train_data_x = all_train_data.iloc[:,1:]\n",
    "all_train_data_y = all_train_data.loc[:,'good_bad':'good_bad']\n",
    "all_train_get_data_x = all_train_get_data.iloc[:,1:]\n",
    "all_train_get_data_y = all_train_get_data.loc[:,'good_bad':'good_bad']"
   ]
  },
  {
   "cell_type": "code",
   "execution_count": 48,
   "metadata": {},
   "outputs": [],
   "source": [
    "x_np = all_train_data_x.values\n",
    "y_np = np.squeeze(all_train_data_y.values)\n",
    "\n",
    "x_get_np = all_train_get_data_x.values\n",
    "y_get_np = np.squeeze(all_train_get_data_y.values)"
   ]
  },
  {
   "cell_type": "code",
   "execution_count": 49,
   "metadata": {},
   "outputs": [],
   "source": [
    "x_np_norm=(x_np-x_np.mean(axis=0))/x_np.var(axis=0)\n",
    "\n",
    "x_get_np_norm = (x_get_np-x_get_np.mean(axis=0))/x_get_np.var(axis=0)"
   ]
  },
  {
   "cell_type": "code",
   "execution_count": 39,
   "metadata": {
    "collapsed": true
   },
   "outputs": [],
   "source": [
    "def get_best_para( x , y , c_max = 1.4 , cv =4 ,metric_n='roc_auc'):\n",
    "    estimator=LogisticRegression(class_weight='balanced',penalty='l2')\n",
    "    param_grid = {'solver': ['newton-cg', 'lbfgs', 'liblinear'],'C': np.arange(0.1,c_max,0.05),'fit_intercept':[True,False],'intercept_scaling':[0.5,1.,1.2,1.5,2]}\n",
    "    clf = GridSearchCV(estimator= estimator, scoring=metric_n, param_grid=param_grid,n_jobs=-1 , cv=cv ) \n",
    "    clf.fit( x , y )\n",
    "    return clf.best_estimator_ , clf.best_score_\n",
    "    #return clf.grid_scores_, clf.best_params_, clf.best_score_"
   ]
  },
  {
   "cell_type": "code",
   "execution_count": 50,
   "metadata": {},
   "outputs": [],
   "source": [
    "be,bs = get_best_para(x_np_norm,y_np)\n",
    "\n",
    "get_be,get_bs = get_best_para(x_get_np_norm,y_get_np)"
   ]
  },
  {
   "cell_type": "code",
   "execution_count": 60,
   "metadata": {},
   "outputs": [
    {
     "name": "stdout",
     "output_type": "stream",
     "text": [
      "[0 1 0 ..., 0 0 1]\n",
      "0.584261796328\n"
     ]
    }
   ],
   "source": [
    "y_prob = be.predict(x_np_norm)\n",
    "\n",
    "#end svm ,start metrics \n",
    "test_auc = roc_auc_score(y_np,y_prob)#验证集上的auc值\n"
   ]
  },
  {
   "cell_type": "code",
   "execution_count": null,
   "metadata": {
    "collapsed": true
   },
   "outputs": [],
   "source": []
  }
 ],
 "metadata": {
  "kernelspec": {
   "display_name": "Python 3",
   "language": "python",
   "name": "python3"
  },
  "language_info": {
   "codemirror_mode": {
    "name": "ipython",
    "version": 3
   },
   "file_extension": ".py",
   "mimetype": "text/x-python",
   "name": "python",
   "nbconvert_exporter": "python",
   "pygments_lexer": "ipython3",
   "version": "3.6.2"
  }
 },
 "nbformat": 4,
 "nbformat_minor": 2
}

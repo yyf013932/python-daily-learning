{
 "cells": [
  {
   "cell_type": "code",
   "execution_count": 55,
   "metadata": {
    "collapsed": true
   },
   "outputs": [],
   "source": [
    "import pandas as pd\n",
    "import numpy as np\n",
    "%matplotlib inline"
   ]
  },
  {
   "cell_type": "code",
   "execution_count": 6,
   "metadata": {
    "collapsed": true
   },
   "outputs": [],
   "source": [
    "df = pd.read_csv(\"d:/resources/sms_analysis/all_train.csv\",encoding='gb2312')"
   ]
  },
  {
   "cell_type": "code",
   "execution_count": 36,
   "metadata": {},
   "outputs": [
    {
     "data": {
      "text/plain": [
       "尾号           -0.076611\n",
       "支出           -0.074644\n",
       "余额           -0.073615\n",
       "Unnamed: 0   -0.071567\n",
       "消费           -0.071557\n",
       "人民币          -0.065515\n",
       "get_num      -0.064723\n",
       "储蓄卡          -0.062725\n",
       "账户           -0.058270\n",
       "回来           -0.051706\n",
       "地址           -0.041771\n",
       "快递           -0.035593\n",
       "麻烦           -0.033535\n",
       "中国农业银行       -0.033337\n",
       "你好           -0.033021\n",
       "谢谢           -0.031333\n",
       "下午           -0.027216\n",
       "您好           -0.026967\n",
       "收到           -0.018493\n",
       "send_num     -0.008778\n",
       "打电话          -0.002603\n",
       "现金           -0.001402\n",
       "有事            0.003671\n",
       "密码            0.004446\n",
       "还款            0.004528\n",
       "手机_x          0.008011\n",
       "微信_y          0.012324\n",
       "短信_x          0.017306\n",
       "马上            0.019502\n",
       "手机_y          0.025461\n",
       "信用            0.027655\n",
       "短信_y          0.034706\n",
       "信息            0.036111\n",
       "微信_x          0.040800\n",
       "客户            0.042795\n",
       "验证码           0.048353\n",
       "查询            0.050057\n",
       "搜索            0.053448\n",
       "中国移动          0.066254\n",
       "号码            0.067808\n",
       "操作            0.074075\n",
       "如非            0.076662\n",
       "good_bad      1.000000\n",
       "Name: good_bad, dtype: float64"
      ]
     },
     "execution_count": 36,
     "metadata": {},
     "output_type": "execute_result"
    }
   ],
   "source": [
    "corr = df.corr().sort_values(by='good_bad')['good_bad']"
   ]
  },
  {
   "cell_type": "code",
   "execution_count": 49,
   "metadata": {},
   "outputs": [
    {
     "data": {
      "text/html": [
       "<div>\n",
       "<style>\n",
       "    .dataframe thead tr:only-child th {\n",
       "        text-align: right;\n",
       "    }\n",
       "\n",
       "    .dataframe thead th {\n",
       "        text-align: left;\n",
       "    }\n",
       "\n",
       "    .dataframe tbody tr th {\n",
       "        vertical-align: top;\n",
       "    }\n",
       "</style>\n",
       "<table border=\"1\" class=\"dataframe\">\n",
       "  <thead>\n",
       "    <tr style=\"text-align: right;\">\n",
       "      <th></th>\n",
       "      <th>good_bad</th>\n",
       "      <th>get_num</th>\n",
       "      <th>send_num</th>\n",
       "      <th>手机_x</th>\n",
       "      <th>号码</th>\n",
       "      <th>如非</th>\n",
       "      <th>验证码</th>\n",
       "      <th>查询</th>\n",
       "      <th>人民币</th>\n",
       "      <th>账户</th>\n",
       "      <th>...</th>\n",
       "      <th>短信_y</th>\n",
       "      <th>快递</th>\n",
       "      <th>信息</th>\n",
       "      <th>马上</th>\n",
       "      <th>微信_y</th>\n",
       "      <th>您好</th>\n",
       "      <th>有事</th>\n",
       "      <th>谢谢</th>\n",
       "      <th>下午</th>\n",
       "      <th>麻烦</th>\n",
       "    </tr>\n",
       "  </thead>\n",
       "  <tbody>\n",
       "    <tr>\n",
       "      <th>0</th>\n",
       "      <td>0</td>\n",
       "      <td>28</td>\n",
       "      <td>20</td>\n",
       "      <td>0.071429</td>\n",
       "      <td>0.000000</td>\n",
       "      <td>0.000000</td>\n",
       "      <td>0.000000</td>\n",
       "      <td>0.214286</td>\n",
       "      <td>0.000000</td>\n",
       "      <td>0.107143</td>\n",
       "      <td>...</td>\n",
       "      <td>0.0</td>\n",
       "      <td>0.0</td>\n",
       "      <td>0.000000</td>\n",
       "      <td>0.000000</td>\n",
       "      <td>0.000000</td>\n",
       "      <td>0.0</td>\n",
       "      <td>0.0</td>\n",
       "      <td>0.050000</td>\n",
       "      <td>0.000000</td>\n",
       "      <td>0.050000</td>\n",
       "    </tr>\n",
       "    <tr>\n",
       "      <th>1</th>\n",
       "      <td>1</td>\n",
       "      <td>68</td>\n",
       "      <td>8</td>\n",
       "      <td>0.308824</td>\n",
       "      <td>0.014706</td>\n",
       "      <td>0.000000</td>\n",
       "      <td>0.029412</td>\n",
       "      <td>0.044118</td>\n",
       "      <td>0.073529</td>\n",
       "      <td>0.294118</td>\n",
       "      <td>...</td>\n",
       "      <td>0.0</td>\n",
       "      <td>0.0</td>\n",
       "      <td>0.000000</td>\n",
       "      <td>0.000000</td>\n",
       "      <td>0.000000</td>\n",
       "      <td>0.0</td>\n",
       "      <td>0.0</td>\n",
       "      <td>0.000000</td>\n",
       "      <td>0.000000</td>\n",
       "      <td>0.000000</td>\n",
       "    </tr>\n",
       "    <tr>\n",
       "      <th>2</th>\n",
       "      <td>0</td>\n",
       "      <td>13</td>\n",
       "      <td>1</td>\n",
       "      <td>0.153846</td>\n",
       "      <td>0.000000</td>\n",
       "      <td>0.000000</td>\n",
       "      <td>0.000000</td>\n",
       "      <td>0.000000</td>\n",
       "      <td>0.000000</td>\n",
       "      <td>0.076923</td>\n",
       "      <td>...</td>\n",
       "      <td>0.0</td>\n",
       "      <td>1.0</td>\n",
       "      <td>0.000000</td>\n",
       "      <td>0.000000</td>\n",
       "      <td>0.000000</td>\n",
       "      <td>0.0</td>\n",
       "      <td>0.0</td>\n",
       "      <td>0.000000</td>\n",
       "      <td>0.000000</td>\n",
       "      <td>0.000000</td>\n",
       "    </tr>\n",
       "    <tr>\n",
       "      <th>3</th>\n",
       "      <td>0</td>\n",
       "      <td>113</td>\n",
       "      <td>39</td>\n",
       "      <td>0.008850</td>\n",
       "      <td>0.008850</td>\n",
       "      <td>0.000000</td>\n",
       "      <td>0.000000</td>\n",
       "      <td>0.008850</td>\n",
       "      <td>0.000000</td>\n",
       "      <td>0.000000</td>\n",
       "      <td>...</td>\n",
       "      <td>0.0</td>\n",
       "      <td>0.0</td>\n",
       "      <td>0.025641</td>\n",
       "      <td>0.025641</td>\n",
       "      <td>0.025641</td>\n",
       "      <td>0.0</td>\n",
       "      <td>0.0</td>\n",
       "      <td>0.025641</td>\n",
       "      <td>0.102564</td>\n",
       "      <td>0.025641</td>\n",
       "    </tr>\n",
       "    <tr>\n",
       "      <th>4</th>\n",
       "      <td>0</td>\n",
       "      <td>60</td>\n",
       "      <td>3</td>\n",
       "      <td>0.033333</td>\n",
       "      <td>0.016667</td>\n",
       "      <td>0.016667</td>\n",
       "      <td>0.200000</td>\n",
       "      <td>0.000000</td>\n",
       "      <td>0.000000</td>\n",
       "      <td>0.050000</td>\n",
       "      <td>...</td>\n",
       "      <td>0.0</td>\n",
       "      <td>0.0</td>\n",
       "      <td>0.000000</td>\n",
       "      <td>0.000000</td>\n",
       "      <td>0.000000</td>\n",
       "      <td>0.0</td>\n",
       "      <td>0.0</td>\n",
       "      <td>0.000000</td>\n",
       "      <td>0.000000</td>\n",
       "      <td>0.000000</td>\n",
       "    </tr>\n",
       "  </tbody>\n",
       "</table>\n",
       "<p>5 rows × 42 columns</p>\n",
       "</div>"
      ],
      "text/plain": [
       "   good_bad  get_num  send_num      手机_x        号码        如非       验证码  \\\n",
       "0         0       28        20  0.071429  0.000000  0.000000  0.000000   \n",
       "1         1       68         8  0.308824  0.014706  0.000000  0.029412   \n",
       "2         0       13         1  0.153846  0.000000  0.000000  0.000000   \n",
       "3         0      113        39  0.008850  0.008850  0.000000  0.000000   \n",
       "4         0       60         3  0.033333  0.016667  0.016667  0.200000   \n",
       "\n",
       "         查询       人民币        账户    ...     短信_y   快递        信息        马上  \\\n",
       "0  0.214286  0.000000  0.107143    ...      0.0  0.0  0.000000  0.000000   \n",
       "1  0.044118  0.073529  0.294118    ...      0.0  0.0  0.000000  0.000000   \n",
       "2  0.000000  0.000000  0.076923    ...      0.0  1.0  0.000000  0.000000   \n",
       "3  0.008850  0.000000  0.000000    ...      0.0  0.0  0.025641  0.025641   \n",
       "4  0.000000  0.000000  0.050000    ...      0.0  0.0  0.000000  0.000000   \n",
       "\n",
       "       微信_y   您好   有事        谢谢        下午        麻烦  \n",
       "0  0.000000  0.0  0.0  0.050000  0.000000  0.050000  \n",
       "1  0.000000  0.0  0.0  0.000000  0.000000  0.000000  \n",
       "2  0.000000  0.0  0.0  0.000000  0.000000  0.000000  \n",
       "3  0.025641  0.0  0.0  0.025641  0.102564  0.025641  \n",
       "4  0.000000  0.0  0.0  0.000000  0.000000  0.000000  \n",
       "\n",
       "[5 rows x 42 columns]"
      ]
     },
     "execution_count": 49,
     "metadata": {},
     "output_type": "execute_result"
    }
   ],
   "source": [
    "df.head()"
   ]
  },
  {
   "cell_type": "code",
   "execution_count": 58,
   "metadata": {},
   "outputs": [
    {
     "data": {
      "text/plain": [
       "<matplotlib.axes._subplots.AxesSubplot at 0x2287fa73f60>"
      ]
     },
     "execution_count": 58,
     "metadata": {},
     "output_type": "execute_result"
    },
    {
     "data": {
      "image/png": "[encoded data removed]",
      "text/plain": [
       "<matplotlib.figure.Figure at 0x2287fa60b00>"
      ]
     },
     "metadata": {},
     "output_type": "display_data"
    }
   ],
   "source": [
    "df['send_num'].plot.hist(bins=50)"
   ]
  },
  {
   "cell_type": "code",
   "execution_count": null,
   "metadata": {
    "collapsed": true
   },
   "outputs": [],
   "source": []
  }
 ],
 "metadata": {
  "kernelspec": {
   "display_name": "Python 3",
   "language": "python",
   "name": "python3"
  },
  "language_info": {
   "codemirror_mode": {
    "name": "ipython",
    "version": 3
   },
   "file_extension": ".py",
   "mimetype": "text/x-python",
   "name": "python",
   "nbconvert_exporter": "python",
   "pygments_lexer": "ipython3",
   "version": "3.6.2"
  }
 },
 "nbformat": 4,
 "nbformat_minor": 2
}
